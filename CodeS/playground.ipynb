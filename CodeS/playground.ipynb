{
 "cells": [
  {
   "cell_type": "code",
   "execution_count": 5,
   "id": "38f1b6e9-b576-46ca-800f-87549fb9e94c",
   "metadata": {},
   "outputs": [
    {
     "data": {
      "text/plain": [
       "0.8845598845598847"
      ]
     },
     "execution_count": 5,
     "metadata": {},
     "output_type": "execute_result"
    }
   ],
   "source": [
    "import SQLtree_based_similarity as sql_scoring\n",
    "\n",
    "sql_scoring.unparsed_query_similarity(\"SELECT frpm.`percent (%) eligible free (ages 5-17)` FROM frpm WHERE frpm.`educational option type` = 'Continuation School' AND frpm.`percent (%) eligible free (ages 5-17)` = ( SELECT min(frpm.`percent (%) eligible free (ages 5-17)`) FROM frpm WHERE frpm.`educational option type` = 'Continuation School' AND frpm.`percent (%) eligible free (ages 5-17)` IS NOT NULL AND frpm.`percent (%) eligible free (ages 5-17)` > 0.0 AND frpm.`percent (%) eligible free (ages 5-17)` < 100.0 AND frpm.`percent (%) eligible free (ages 5-17)` IS NOT NULL AND frpm.`percent (%) eligible free (ages 5-17)` > 0.0 AND frpm.`percent (%) eligible free (ages 5-17)` < 100.0 AND frpm.`percent (%) eligible free (ages 5-17)` IS NOT NULL AND frpm.`percent (%) eligible free (ages 5-17)` > 0.0 AND frpm.`percent (%) eligible free (ages 5-17)` < 100.0 AND frpm.`percent (%) eligible free (ages 5-17)` IS NOT NULL AND frpm.`percent (%) eligible free (ages 5-17)` > 0.0 AND frpm.`percent (%) eligible free (ages 5-17)` < 100.0 AND frpm.`percent (%) eligible free (ages 5-17)` IS NOT NULL AND frpm.`percent (%) eligible free (ages 5-17)` > 0.0 AND frpm.`percent (%) eligible free \" , \n",
    "                                      'SELECT satscores.cname, schools.latitude, schools.longitude FROM satscores INNER JOIN schools ON satscores.cds = schools.cdscode WHERE satscores.avgscrmath = ( SELECT avg(satscores.avgscrmath) FROM satscores WHERE s s s s s s s s s s s s s s s s s s s s s s s s s s s s s s s s s s s s s s s s s s s s s s s s s s s s s s s s s s s s s s s s s s s s s s s s s s s s s s s s s s s s s s s s s s s s s s s s s s s s s s s s s s s s s s s s s s s s s s s s s s s s s s s s s s s s s s s s s s s s s s s s' )\n",
    "\n",
    "query1 = \"SELECT max(frpm.`free meal count (k-12)`) / max(frpm.`enrollment (k-12)`) FROM frpm INNER JOIN schools ON frpm.cdscode = schools.cdscode WHERE schools.county = 'Alameda'\"\n",
    "query2 = \"SELECT max(cast(frpm.`free meal count (k-12)` AS REAL) / frpm.`enrollment (k-12)`) FROM frpm INNER JOIN schools ON frpm.cdscode = schools.cdscode WHERE schools.county = 'Alameda'\"\n",
    "sql_scoring.unparsed_query_similarity(query1, query2)"
   ]
  },
  {
   "cell_type": "code",
   "execution_count": 10,
   "id": "2334f454-6b68-4410-a93c-9bf783866829",
   "metadata": {},
   "outputs": [
    {
     "name": "stdout",
     "output_type": "stream",
     "text": [
      "MAX(frpm.\"free meal count (k-12)\") / MAX(frpm.\"enrollment (k-12)\")\n",
      "MAX(frpm.\"free meal count (k-12)\")\n",
      "frpm.\"free meal count (k-12)\"\n",
      "\"free meal count (k-12)\"\n",
      "frpm\n",
      "MAX(frpm.\"enrollment (k-12)\")\n",
      "frpm.\"enrollment (k-12)\"\n",
      "\"enrollment (k-12)\"\n",
      "frpm\n"
     ]
    }
   ],
   "source": [
    "from sqlglot import parse_one\n",
    "from sqlglot.errors import ErrorLevel\n",
    "\n",
    "query1 = \"max(frpm.`free meal count (k-12)`) / max(frpm.`enrollment (k-12)`) FROM frpm INNER JOIN schools ON frpm.cdscode = schools.cdscode WHERE schools.county = 'Alameda'\"\n",
    "query1 = query1.replace('`' , '\"')\n",
    "q_parsed = parse_one(query1 , error_level=ErrorLevel.IGNORE)\n",
    "for i in q_parsed.dfs():\n",
    "    print(i)\n",
    "\n"
   ]
  },
  {
   "cell_type": "code",
   "execution_count": 31,
   "id": "8eeb71b2-1167-43bf-836b-694ab7bb94ad",
   "metadata": {},
   "outputs": [
    {
     "name": "stdout",
     "output_type": "stream",
     "text": [
      "Longest repeated substring:  WHERE frpm.`academic year` = '2014-2015' AND frpm.`school type` = 'K-12 Schools (Public)' AND frpm.`enrollment (k-12)` \n",
      "120\n"
     ]
    }
   ],
   "source": [
    "from suffix_tree import Tree\n",
    "\n",
    "def longest_repeated_substring(text):\n",
    "    text += \"$\"  # Add unique termination character\n",
    "    tree = Tree({\"data\": text})\n",
    "    \n",
    "    maximal_repeat = tree.maximal_repeats()\n",
    "    longest_string = ''\n",
    "    # c, path = maximal_repeat[-1]\n",
    "    # return path\n",
    "    for c, path in maximal_repeat:\n",
    "        if len(path)>len(longest_string):\n",
    "            longest_string=path\n",
    "    return longest_string.__str__()[::2]\n",
    "\n",
    "# Example usage\n",
    "text = \"SELECT min(schools.opendate) FROM schools INNER JOIN frpm ON schools.cdscode = frpm.cdscode WHERE frpm.`academic year` = '2014-2015' AND frpm.`school type` = 'K-12 Schools (Public)' AND frpm.`enrollment (k-12)` = ( SELECT max(`enrollment (k-12)`) FROM frpm WHERE frpm WHERE frpm.`academic year` = '2014-2015' AND frpm.`school type` = 'K-12 Schools (Public)' AND frpm.`enrollment (k-12)` IS NOT NULL AND frpm.`enrollment (k-12)` > 0.0 );\"\n",
    "result = longest_repeated_substring(text)\n",
    "print(f\"Longest repeated substring: {result}\")\n",
    "print(len(result))\n"
   ]
  },
  {
   "cell_type": "code",
   "execution_count": 33,
   "id": "97d2b03c-a613-41b0-b808-47554f9b39de",
   "metadata": {},
   "outputs": [
    {
     "name": "stdout",
     "output_type": "stream",
     "text": [
      "39\n"
     ]
    }
   ],
   "source": [
    "string = \"frpm.`academic year` = '2014-2015' AND \"\n",
    "print(len(string))"
   ]
  }
 ],
 "metadata": {
  "kernelspec": {
   "display_name": "Python 3 (ipykernel)",
   "language": "python",
   "name": "python3"
  },
  "language_info": {
   "codemirror_mode": {
    "name": "ipython",
    "version": 3
   },
   "file_extension": ".py",
   "mimetype": "text/x-python",
   "name": "python",
   "nbconvert_exporter": "python",
   "pygments_lexer": "ipython3",
   "version": "3.12.2"
  }
 },
 "nbformat": 4,
 "nbformat_minor": 5
}
