{
 "cells": [
  {
   "cell_type": "code",
   "execution_count": 3,
   "id": "b632816d-2d0a-4a34-ab0d-dbf9e2b1b76a",
   "metadata": {},
   "outputs": [],
   "source": [
    "import os\n",
    "\n",
    "data_size = 1034 # variable\n",
    "max_job_data_size = 50 # variable\n",
    "Job_number = 3 #variable\n",
    "\n",
    "num_nodes = 1 #variable\n",
    "account = 'def-lilimou' #variable\n",
    "memory = '30G' #variable\n",
    "max_time = '0-03:30' #variable **important\n",
    "GPUs = 'v100:4' #variable\n",
    "env = 'word_level_sampling' #variable\n",
    "python_file = 'word_level_sampling2.py' #variable\n",
    "model_name = '\"huggyllama/llama-7b\"' #variable\n",
    "\n",
    "num_beam  = 2 #variable\n",
    "batch_size = 2 #variable\n",
    "thread_num = 10 #variable\n",
    "\n",
    "#constants:\n",
    "header_text = '#!/bin/bash'\n",
    "num_nodes_text = '#SBATCH --nodes=' + str(num_nodes)\n",
    "account_text = '#SBATCH --account=' + account\n",
    "memory_text = '#SBATCH --mem=' + memory\n",
    "max_time_text = '#SBATCH --time=' + max_time\n",
    "GPUs_text = '#SBATCH --gpus-per-node=' + GPUs\n",
    "env_activ_text = 'source ' + env + '/bin/activate'\n",
    "\n",
    "os.mkdir(f'Jobs{str(Job_number)}')\n",
    "#range( start , stop , step )\n",
    "for i in range(0 , data_size , max_job_data_size ):\n",
    "    \n",
    "    starting_index = i #variable\n",
    "    if i+max_job_data_size<data_size:\n",
    "        ending_index = i + max_job_data_size #variable\n",
    "        ending_index_text = str(ending_index) #variable\n",
    "    else:\n",
    "        ending_index = -1 #variable\n",
    "        ending_index_text = 'end' #variable\n",
    "        \n",
    "    command = f'CUDA_LAUNCH_BLOCKING=1 TORCH_USE_CUDA_DSA=1 python {python_file} --model_name {model_name} --output_file ./outputs{str(Job_number)}/output_sequences_{str(starting_index)}_{ending_index_text}-{str(num_beam)}.pkl --log_file /scratch/yadegari/logs{str(Job_number)}/log_{str(starting_index)}_{ending_index_text}-{str(num_beam)}.txt --starting_index {str(starting_index)} --ending_index {str(ending_index)} --num_beam {str(num_beam)} --batch_size {str(batch_size)} --thread_num {str(thread_num)}'\n",
    "    with open(f'Jobs{str(Job_number)}/job_beam{str(num_beam)}_{str(starting_index)}_{ending_index_text}.sh' , 'w') as f:\n",
    "        f.write(f'{header_text}\\n{num_nodes_text}\\n{account_text}\\n{memory_text}\\n{max_time_text}\\n{GPUs_text}\\n{env_activ_text}\\n')\n",
    "        f.write(command)\n",
    "\n"
   ]
  }
 ],
 "metadata": {
  "kernelspec": {
   "display_name": "Python 3 (ipykernel)",
   "language": "python",
   "name": "python3"
  },
  "language_info": {
   "codemirror_mode": {
    "name": "ipython",
    "version": 3
   },
   "file_extension": ".py",
   "mimetype": "text/x-python",
   "name": "python",
   "nbconvert_exporter": "python",
   "pygments_lexer": "ipython3",
   "version": "3.12.4"
  }
 },
 "nbformat": 4,
 "nbformat_minor": 5
}
