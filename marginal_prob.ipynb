{
 "cells": [
  {
   "cell_type": "code",
   "execution_count": 11,
   "id": "90cf82e5-4fdb-4133-9b30-4def9596749a",
   "metadata": {},
   "outputs": [
    {
     "name": "stdout",
     "output_type": "stream",
     "text": [
      "./outputs/raw/output_CodeS_candid16_bird_wEvidence_0shot_SFTCodeS-15b\n",
      "[tensor(-1.8258), tensor(-1.8306), tensor(-1.7763), tensor(-1.8396)]\n",
      "[tensor(-1.7356), tensor(-1.7406), tensor(-1.6803), tensor(-1.7404)]\n",
      "[tensor(-1.6017), tensor(-1.5796), tensor(-1.4929), tensor(-1.5882)]\n",
      "[tensor(-1.6526), tensor(-1.6483), tensor(-1.5728), tensor(-1.6491)]\n",
      "[tensor(-1.7751), tensor(-1.7806), tensor(-1.6943), tensor(-1.7639)]\n",
      "[tensor(-1.6166), tensor(-1.6155), tensor(-1.5652), tensor(-1.5998)]\n",
      "./outputs/raw/output_CodeS_candid16_bird_wEvidence_1shot_SFTCodeS-15b_1Of0-5shot\n",
      "[tensor(-1.8445), tensor(-1.8258), tensor(-1.8193), tensor(-1.8004)]\n",
      "[tensor(-1.7313), tensor(-1.7363), tensor(-1.7454), tensor(-1.7088)]\n",
      "[tensor(-1.5796), tensor(-1.6017), tensor(-1.6030), tensor(-1.5470)]\n",
      "[tensor(-1.6731), tensor(-1.6526), tensor(-1.6689), tensor(-1.5980)]\n",
      "[tensor(-1.8124), tensor(-1.7751), tensor(-1.7888), tensor(-1.7421)]\n",
      "[tensor(-1.6537), tensor(-1.6166), tensor(-1.6875), tensor(-1.5531)]\n",
      "./outputs/raw/output_CodeS_candid16_bird_wEvidence_1shot_SFTCodeS-15b_2Of0-5shot\n",
      "[tensor(-1.7149), tensor(-1.8310), tensor(-1.8685), tensor(-1.8019)]\n",
      "[tensor(-1.6235), tensor(-1.7080), tensor(-1.7544), tensor(-1.6680)]\n",
      "[tensor(-1.4737), tensor(-1.6062), tensor(-1.5863), tensor(-1.4965)]\n",
      "[tensor(-1.5372), tensor(-1.6133), tensor(-1.6548), tensor(-1.5987)]\n",
      "[tensor(-1.6601), tensor(-1.7721), tensor(-1.7934), tensor(-1.7317)]\n",
      "[tensor(-1.4808), tensor(-1.5981), tensor(-1.6125), tensor(-1.5878)]\n",
      "./outputs/raw/output_CodeS_candid16_bird_wEvidence_1shot_SFTCodeS-15b_3Of0-5shot\n",
      "[tensor(-1.7738), tensor(-1.7583), tensor(-1.7722), tensor(-1.8214)]\n",
      "[tensor(-1.6531), tensor(-1.6457), tensor(-1.6731), tensor(-1.7071)]\n",
      "[tensor(-1.4831), tensor(-1.4643), tensor(-1.5558), tensor(-1.5297)]\n",
      "[tensor(-1.5650), tensor(-1.5578), tensor(-1.5892), tensor(-1.6311)]\n",
      "[tensor(-1.6895), tensor(-1.6787), tensor(-1.7146), tensor(-1.7261)]\n",
      "[tensor(-1.5342), tensor(-1.5228), tensor(-1.5402), tensor(-1.5734)]\n",
      "./outputs/raw/output_CodeS_candid16_bird_wEvidence_1shot_SFTCodeS-15b_4Of0-5shot\n",
      "[tensor(-1.7822), tensor(-1.7863), tensor(-1.8445), tensor(-1.8548)]\n",
      "[tensor(-1.6749), tensor(-1.6697), tensor(-1.7313), tensor(-1.7278)]\n",
      "[tensor(-1.5217), tensor(-1.4920), tensor(-1.5796), tensor(-1.5728)]\n",
      "[tensor(-1.5907), tensor(-1.5993), tensor(-1.6731), tensor(-1.6564)]\n",
      "[tensor(-1.7244), tensor(-1.6975), tensor(-1.8124), tensor(-1.7550)]\n",
      "[tensor(-1.5085), tensor(-1.5410), tensor(-1.6537), tensor(-1.6082)]\n",
      "./outputs/raw/output_CodeS_candid16_bird_wEvidence_1shot_SFTCodeS-15b_5Of0-5shot\n",
      "[tensor(-1.9136), tensor(-1.8445), tensor(-1.9264), tensor(-1.7216)]\n",
      "[tensor(-1.7803), tensor(-1.7313), tensor(-1.7977), tensor(-1.6231)]\n",
      "[tensor(-1.6198), tensor(-1.5796), tensor(-1.6383), tensor(-1.4727)]\n",
      "[tensor(-1.6853), tensor(-1.6731), tensor(-1.7257), tensor(-1.5372)]\n",
      "[tensor(-1.8173), tensor(-1.8124), tensor(-1.8571), tensor(-1.6605)]\n",
      "[tensor(-1.6238), tensor(-1.6537), tensor(-1.6718), tensor(-1.4877)]\n"
     ]
    }
   ],
   "source": [
    "import pickle as pkl\n",
    "import torch\n",
    "\n",
    "components_list = [\n",
    "    './outputs/raw/output_CodeS_candid16_bird_wEvidence_0shot_SFTCodeS-15b',\n",
    "    './outputs/raw/output_CodeS_candid16_bird_wEvidence_1shot_SFTCodeS-15b_1Of0-5shot',\n",
    "    './outputs/raw/output_CodeS_candid16_bird_wEvidence_1shot_SFTCodeS-15b_2Of0-5shot',\n",
    "    './outputs/raw/output_CodeS_candid16_bird_wEvidence_1shot_SFTCodeS-15b_3Of0-5shot',\n",
    "    './outputs/raw/output_CodeS_candid16_bird_wEvidence_1shot_SFTCodeS-15b_4Of0-5shot',\n",
    "    './outputs/raw/output_CodeS_candid16_bird_wEvidence_1shot_SFTCodeS-15b_5Of0-5shot'\n",
    "]\n",
    "prob_postfix_list = [\n",
    "    '_joint0sh_beams_log_prob.pkl',\n",
    "    '_joint1sh1_beams_log_prob.pkl',\n",
    "    '_joint1sh2_beams_log_prob.pkl',\n",
    "    '_joint1sh3_beams_log_prob.pkl',\n",
    "    '_joint1sh4_beams_log_prob.pkl',\n",
    "    '_joint1sh5_beams_log_prob.pkl'\n",
    "]\n",
    "output_postfix = '_joint6comp_beams_log_prob.pkl'\n",
    "\n",
    "for comp_candidates in components_list:\n",
    "    print(comp_candidates)\n",
    "    log_sum = None\n",
    "    for postfix in prob_postfix_list:\n",
    "        filename= comp_candidates + postfix\n",
    "        with open(filename , 'rb' ) as f:\n",
    "            prob_list = pkl.load(f)\n",
    "            # prob_list = torch.load(f, map_location=torch.device('cpu'), weights_only=False)\n",
    "        print( prob_list[0:4] )\n",
    "        prob_tensor = torch.stack(prob_list)\n",
    "        if log_sum is None:\n",
    "            log_sum = prob_tensor\n",
    "        else:\n",
    "            # print(f'selection_score_with_other_response:{selection_score_with_other_response} --> {selection_score_with_other_response.dtype}')\n",
    "            # print(f'selection_score:{selection_score} --> {selection_score.dtype}')\n",
    "            alpha = torch.maximum( prob_tensor , log_sum )\n",
    "            beta = torch.minimum( prob_tensor , log_sum )\n",
    "            log_sum = alpha + torch.log1p(torch.exp(beta-alpha))\n",
    "    log_sum_list = log_sum.tolist()\n",
    "    with open(comp_candidates+output_postfix , 'wb') as f:\n",
    "        pkl.dump(log_sum_list, f)\n",
    "        "
   ]
  },
  {
   "cell_type": "code",
   "execution_count": 12,
   "id": "6cbe1b4e-6ec9-42b6-b7f2-cadf07881c03",
   "metadata": {},
   "outputs": [],
   "source": [
    "import math\n",
    "num_beam = 16 # We should not forget to set this parameter correctly!!\n",
    "new_candid_prob_list = []\n",
    "new_output_prefix = '_a1b1Joint6comp_beams_log_prob.pkl'\n",
    "for beam_index in range(0,1534*num_beam,num_beam):\n",
    "    candid_prob_list = []\n",
    "    for idx , comp_candidates in enumerate(components_list):\n",
    "        \n",
    "        if idx <= len(new_candid_prob_list):\n",
    "            new_candid_prob_list.append([])\n",
    "            \n",
    "        filename= comp_candidates + output_postfix\n",
    "        with open(filename , 'rb' ) as f:\n",
    "            prob_list = pkl.load(f)\n",
    "        candid_prob_list.extend(prob_list[beam_index:beam_index+num_beam])\n",
    "        \n",
    "    candid_prob_list_min = min(candid_prob_list)\n",
    "    candid_prob_list_max = max(candid_prob_list)\n",
    "    candid_prob_list_scaled = [(x - candid_prob_list_min) / (candid_prob_list_max - candid_prob_list_min) for x in candid_prob_list]\n",
    "    \n",
    "    # Step 2: Apply exponentiation to amplify differences\n",
    "    # alpha = 1  # You can experiment with different values #It kinda give the original value\n",
    "    # beta = .087 #It kinda give the original value\n",
    "    # gama = 0.275 #It kinda give the original value\n",
    "    alpha = 1  \n",
    "    beta = 1 \n",
    "    gama = 0 \n",
    "    p_transformed = [beta * x ** alpha + gama for x in candid_prob_list_scaled]\n",
    "    for i in range(0, len(p_transformed), num_beam):\n",
    "        new_candid_prob_list[ math.ceil(i/num_beam) ].extend(p_transformed[i:i+num_beam])\n",
    "\n",
    "for prob_list, comp_candidates in zip(new_candid_prob_list, components_list):\n",
    "    with open(comp_candidates+new_output_prefix , 'wb') as f:\n",
    "        pkl.dump(prob_list, f)\n",
    "\n"
   ]
  },
  {
   "cell_type": "code",
   "execution_count": 10,
   "id": "0d877b67-2abb-49d3-a380-af3c1a5984e2",
   "metadata": {},
   "outputs": [
    {
     "name": "stdout",
     "output_type": "stream",
     "text": [
      "./outputs/raw/output_CodeS_candid16_bird_wEvidence_0shot_SFTCodeS-7b\n",
      "24544\n",
      "./outputs/raw/output_CodeS_candid16_bird_wEvidence_1shot_SFTCodeS-7b_1Of0-5shot\n",
      "24544\n",
      "./outputs/raw/output_CodeS_candid16_bird_wEvidence_1shot_SFTCodeS-7b_2Of0-5shot\n",
      "24544\n",
      "./outputs/raw/output_CodeS_candid16_bird_wEvidence_1shot_SFTCodeS-7b_3Of0-5shot\n",
      "24544\n",
      "./outputs/raw/output_CodeS_candid16_bird_wEvidence_1shot_SFTCodeS-7b_4Of0-5shot\n",
      "24544\n",
      "./outputs/raw/output_CodeS_candid16_bird_wEvidence_1shot_SFTCodeS-7b_5Of0-5shot\n",
      "24544\n"
     ]
    }
   ],
   "source": [
    "#0:1 | 2:1 | 4:1 | 5:2 | 7:3\n",
    "for comp_candidates in components_list:\n",
    "    filename= comp_candidates + output_postfix# '.pkl'\n",
    "    with open(filename , 'rb' ) as f:\n",
    "        prob_list = pkl.load(f)\n",
    "    print(comp_candidates)\n",
    "    print(len(prob_list))\n",
    "    # for i in prob_list[0:4]:\n",
    "    #     print(i)"
   ]
  },
  {
   "cell_type": "code",
   "execution_count": 71,
   "id": "6b125f9b-ecfd-496f-b852-5fdd59a027bf",
   "metadata": {},
   "outputs": [
    {
     "data": {
      "text/plain": [
       "2.0794415416798357"
      ]
     },
     "execution_count": 71,
     "metadata": {},
     "output_type": "execute_result"
    }
   ],
   "source": [
    "torch.exp(torch.tensor(-0.9748774810717132))\n",
    "math.log(8)"
   ]
  }
 ],
 "metadata": {
  "kernelspec": {
   "display_name": "Python 3 (ipykernel)",
   "language": "python",
   "name": "python3"
  },
  "language_info": {
   "codemirror_mode": {
    "name": "ipython",
    "version": 3
   },
   "file_extension": ".py",
   "mimetype": "text/x-python",
   "name": "python",
   "nbconvert_exporter": "python",
   "pygments_lexer": "ipython3",
   "version": "3.11.5"
  }
 },
 "nbformat": 4,
 "nbformat_minor": 5
}
